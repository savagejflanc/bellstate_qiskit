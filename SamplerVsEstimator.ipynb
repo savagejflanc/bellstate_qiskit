{
 "cells": [
  {
   "cell_type": "markdown",
   "metadata": {},
   "source": [
    "Sampler Primitive computes a quasi distribution of measurement outcomes. Since it deals with probability distribution, it measures the quantum operation and turns them into classical and gives the output as the probability.\n",
    "\n",
    "For instance, take Bell states, phi+. In phi+ we have equal probability of getting 00 or 11 and so the sampler primitive gives us the distribution for both having equal chances. "
   ]
  },
  {
   "cell_type": "code",
   "execution_count": 4,
   "metadata": {},
   "outputs": [],
   "source": [
    "from qiskit import QuantumCircuit, QuantumRegister  #importing the model to create a circuit for 2 qubits\n",
    "import warnings\n",
    "warnings.filterwarnings(\"ignore\",category=DeprecationWarning) \n",
    "qubits=QuantumRegister(2,name=\"q\" )  #we name those qubits as q1, q2.\n",
    "q0,q1=qubits  \n",
    "circuit=QuantumCircuit(qubits)\n",
    "circuit.h(0)  # We apply Hadamard gate in the second qubit\n",
    "circuit.cx(q0,q1)\n",
    "circuit.measure_all()\n",
    "# circuit.draw(\"mpl\")\n",
    "\n",
    "#we have now created a bell state with 00 and 11 having the same probability. Let us now use sampler primitves to find the distribution after the measurement"
   ]
  },
  {
   "cell_type": "markdown",
   "metadata": {},
   "source": [
    "Measuring the Bell state to find the probability of qubits using Sampler"
   ]
  },
  {
   "cell_type": "code",
   "execution_count": 5,
   "metadata": {},
   "outputs": [
    {
     "data": {
      "image/png": "[encoded data removed]",
      "text/plain": [
       "<Figure size 640x480 with 1 Axes>"
      ]
     },
     "metadata": {},
     "output_type": "display_data"
    }
   ],
   "source": [
    "from qiskit.primitives import Sampler\n",
    "from qiskit.visualization import plot_histogram\n",
    "\n",
    "\n",
    "\n",
    "sampler = Sampler()\n",
    "results = sampler.run(circuit).result()\n",
    "statistics = results.quasi_dists[0].binary_probabilities()\n",
    "display(plot_histogram(statistics))\n",
    "# circuit.draw(output=\"mpl\")"
   ]
  },
  {
   "cell_type": "markdown",
   "metadata": {},
   "source": [
    "We will now use Estimator primitive for the same Bell state to find the average of qubit. The way the Estimator works is that, unlike samper that measures the qubit and finds the probability, an estimator computes the expecation values of observables. To find this, we use the Z basis measurement on both qubit 1 and 0 (independently and collectively). Since for this particular bell state phi+, the correlation is always 00 and 11 which means we can never have qubits correlated outside from this state. "
   ]
  },
  {
   "cell_type": "code",
   "execution_count": 6,
   "metadata": {},
   "outputs": [
    {
     "name": "stdout",
     "output_type": "stream",
     "text": [
      "Expectation value of Z0: 0.0\n",
      "Expectation value of Z1: 0.0\n",
      "Expectation value of ZZ: 0.9999999999999998\n"
     ]
    }
   ],
   "source": [
    "from qiskit import QuantumCircuit, QuantumRegister  \n",
    "from qiskit.quantum_info import SparsePauliOp\n",
    "from qiskit.primitives import Estimator\n",
    "\n",
    "# Create a Bell state circuit without measurement\n",
    "qubits = QuantumRegister(2, name=\"q\")\n",
    "q0, q1 = qubits  \n",
    "circuit = QuantumCircuit(qubits)\n",
    "circuit.h(q0)  \n",
    "circuit.cx(q0, q1)\n",
    "\n",
    "# Define observables\n",
    "Z0 = SparsePauliOp([\"ZI\"])  # Measure qubit 0 in Z basis\n",
    "Z1 = SparsePauliOp([\"IZ\"])  # Measure qubit 1 in Z basis\n",
    "ZZ = SparsePauliOp([\"ZZ\"])  # Measure both qubits in ZZ basis\n",
    "\n",
    "# Initialize the estimator\n",
    "estimator = Estimator()\n",
    "\n",
    "# Running estimator for different observables\n",
    "exp_val_Z0 = estimator.run([circuit], [Z0]).result().values[0]\n",
    "exp_val_Z1 = estimator.run([circuit], [Z1]).result().values[0]\n",
    "exp_val_ZZ = estimator.run([circuit], [ZZ]).result().values[0]  # Fix the brackets here\n",
    "\n",
    "print(f\"Expectation value of Z0: {exp_val_Z0}\")\n",
    "print(f\"Expectation value of Z1: {exp_val_Z1}\")\n",
    "print(f\"Expectation value of ZZ: {exp_val_ZZ}\")\n"
   ]
  },
  {
   "cell_type": "markdown",
   "metadata": {},
   "source": [
    "GATES in Qiskit"
   ]
  },
  {
   "cell_type": "code",
   "execution_count": 7,
   "metadata": {},
   "outputs": [
    {
     "data": {
      "text/html": [
       "<pre style=\"word-wrap: normal;white-space: pre;background: #fff0;line-height: 1.1;font-family: &quot;Courier New&quot;,Courier,monospace\">   ┌───┐\n",
       "q: ┤ X ├\n",
       "   └───┘</pre>"
      ],
      "text/plain": [
       "   ┌───┐\n",
       "q: ┤ X ├\n",
       "   └───┘"
      ]
     },
     "execution_count": 7,
     "metadata": {},
     "output_type": "execute_result"
    }
   ],
   "source": [
    "#X - Gate flipping the qubit. The X gate is the equivalent of the classical NOT gate\n",
    "from qiskit import QuantumCircuit\n",
    "qc=QuantumCircuit(1)   #create a quantum circuit with one qubit, when we start with only one qubit we have qubit 0 by default. Hence we are flipping the qubit 0 here.\n",
    "qc.x(0)   #Apply X gate to qubit 0\n",
    "qc.draw()"
   ]
  },
  {
   "cell_type": "markdown",
   "metadata": {},
   "source": [
    "The following code doesn't show the flip in the qubit. It only shows the initial qubit and the Gate applied. To see the effect, we must measure the qubit and simulate the quantum circuit."
   ]
  },
  {
   "cell_type": "code",
   "execution_count": 8,
   "metadata": {},
   "outputs": [
    {
     "name": "stdout",
     "output_type": "stream",
     "text": [
      "{'1': 1024}\n"
     ]
    }
   ],
   "source": [
    "from qiskit import QuantumCircuit\n",
    "from qiskit_aer import AerSimulator  # ✅ Correct import\n",
    "\n",
    "# Create a quantum circuit with 1 qubit and 1 classical bit\n",
    "qc = QuantumCircuit(1, 1)\n",
    "qc.x(0)  # Apply X (bit-flip) gate\n",
    "qc.measure(0, 0)  # Measure the qubit\n",
    "\n",
    "# Simulate the circuit\n",
    "simulator = AerSimulator()  # ✅ Use AerSimulator directly\n",
    "result = simulator.run(qc).result()\n",
    "\n",
    "# Get and print the measurement result\n",
    "counts = result.get_counts()\n",
    "print(counts)  # Should print {'1': 1} since |0⟩ flips to |1⟩\n"
   ]
  },
  {
   "cell_type": "markdown",
   "metadata": {},
   "source": [
    "Creating a Bell State and figuring out which Bell state that is by storing them into the classical bits"
   ]
  },
  {
   "cell_type": "code",
   "execution_count": 9,
   "metadata": {},
   "outputs": [
    {
     "name": "stdout",
     "output_type": "stream",
     "text": [
      "{'11': 527, '00': 497}\n"
     ]
    }
   ],
   "source": [
    "#Creating a phi+ Bell state and measuring the Bell state to get the probability for eacch measurement 1024 times.\n",
    "\n",
    "from qiskit import QuantumCircuit\n",
    "from qiskit_aer import AerSimulator\n",
    "\n",
    "qc=QuantumCircuit(2,2)\n",
    "qc.h(0)\n",
    "qc.cx(0,1)\n",
    "\n",
    "qc.measure([0,1],[0,1])  #This measure the quantum states of both qubits and store them in the classical bits.\n",
    "simulator=AerSimulator()\n",
    "\n",
    "sampler=Sampler()\n",
    "result = simulator.run(qc).result()\n",
    "counts = result.get_counts()\n",
    "print(counts)  \n",
    "\n",
    "#Since the output is {'11': 520, '00': 504} we measure the qubit 1024 times and we only get either 00 or 11 meaning the qubits are entangled as phi+\n",
    "\n"
   ]
  },
  {
   "cell_type": "markdown",
   "metadata": {},
   "source": [
    "Creating a phi- Bell state from a phi+ Bell state. \n",
    "Once we have a phi+ Bell state, we can apply a Z flip in the first qubit in phi+ to get a local phase difference\n",
    "Z∣0⟩ = ∣0⟩ and Z∣1⟩ = −∣1⟩. In other words, applying a phase flip for qubit 0 changes nothing while applying a phase flip on the qubit 1 flips the sign."
   ]
  },
  {
   "cell_type": "markdown",
   "metadata": {},
   "source": [
    "Differentiating a phi+ from phi- is quite tricky since they are only differ from the relative phase sign. Infact, we cannot measure the two qubits directly since the sign disappears as well."
   ]
  },
  {
   "cell_type": "markdown",
   "metadata": {},
   "source": [
    "Creating a phi - state from phi+. To creat a phi- state, we first create a phi+ state then we apply a Z flip"
   ]
  },
  {
   "cell_type": "code",
   "execution_count": null,
   "metadata": {},
   "outputs": [
    {
     "name": "stdout",
     "output_type": "stream",
     "text": [
      "{'00': 498, '11': 526}\n"
     ]
    }
   ],
   "source": [
    "#Creating a phi- state and measuring the qubit\n",
    "\n",
    "from qiskit import QuantumCircuit\n",
    "from qiskit_aer import AerSimulator\n",
    "\n",
    "qc=QuantumCircuit(2,2)\n",
    "qc.h(0)\n",
    "qc.cx(0,1)\n",
    "qc.z(0)   #Applying a Z gate to one of the qubits to create a phi- state from phi+ state\n",
    "qc.measure([0,1],[0,1])\n",
    "simulator=AerSimulator()\n",
    "\n",
    "sampler=Sampler()\n",
    "result=simulator.run(qc).result()\n",
    "counts=result.get_counts()\n",
    "print(counts)\n"
   ]
  },
  {
   "cell_type": "markdown",
   "metadata": {},
   "source": [
    "Creating a psi+ state from phi+ state"
   ]
  },
  {
   "cell_type": "code",
   "execution_count": null,
   "metadata": {},
   "outputs": [
    {
     "name": "stdout",
     "output_type": "stream",
     "text": [
      "{'10': 487, '01': 537}\n"
     ]
    }
   ],
   "source": [
    "from qiskit import QuantumCircuit\n",
    "from qiskit_aer import AerSimulator\n",
    "\n",
    "qc=QuantumCircuit(2,2)\n",
    "qc.h(0)\n",
    "qc.cx(0,1)\n",
    "\n",
    "#Apply X gate to the first qubit to flip the qubit and creating a psi+ state from phi+ state\n",
    "qc.x(0)\n",
    "qc.measure([0,1],[0,1])\n",
    "simulator=AerSimulator()\n",
    "\n",
    "sampler=Sampler()\n",
    "result=simulator.run(qc).result()\n",
    "counts=result.get_counts()\n",
    "print(counts)\n",
    "\n",
    "#The probability is distributted equally since the probability for 01 and 10 in bell state is equal."
   ]
  },
  {
   "cell_type": "markdown",
   "metadata": {},
   "source": [
    "Creating a psi- state from phi+ state"
   ]
  },
  {
   "cell_type": "code",
   "execution_count": 18,
   "metadata": {},
   "outputs": [
    {
     "name": "stdout",
     "output_type": "stream",
     "text": [
      "{'10': 493, '01': 531}\n"
     ]
    }
   ],
   "source": [
    "from qiskit import QuantumCircuit\n",
    "from qiskit_aer import AerSimulator\n",
    "\n",
    "qc = QuantumCircuit(2, 2)\n",
    "qc.h(0)\n",
    "qc.cx(0, 1)\n",
    "\n",
    "# Apply X gate to transform |Φ+⟩ → |Ψ+⟩\n",
    "qc.x(1)\n",
    "\n",
    "# Apply Z gate to qubit 0 to introduce phase difference |Ψ+⟩ → |Ψ-⟩\n",
    "qc.z(0)\n",
    "\n",
    "# Measure the qubits\n",
    "qc.measure([0, 1], [0, 1])\n",
    "\n",
    "# Simulate\n",
    "simulator = AerSimulator()\n",
    "result = simulator.run(qc).result()\n",
    "counts = result.get_counts()\n",
    "print(counts)\n"
   ]
  },
  {
   "cell_type": "code",
   "execution_count": null,
   "metadata": {},
   "outputs": [],
   "source": []
  }
 ],
 "metadata": {
  "kernelspec": {
   "display_name": ".venv",
   "language": "python",
   "name": "python3"
  },
  "language_info": {
   "codemirror_mode": {
    "name": "ipython",
    "version": 3
   },
   "file_extension": ".py",
   "mimetype": "text/x-python",
   "name": "python",
   "nbconvert_exporter": "python",
   "pygments_lexer": "ipython3",
   "version": "3.12.3"
  }
 },
 "nbformat": 4,
 "nbformat_minor": 2
}

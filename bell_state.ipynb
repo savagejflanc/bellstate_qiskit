{
 "cells": [
  {
   "cell_type": "markdown",
   "metadata": {},
   "source": [
    "In a 2 qubit system, we have 4 maximally entangled Bell states. These Bell states are used in many prorperties in quantum information- teleportation, cryptography, etc. We will be creating 4 bell states starrting frfom phi+."
   ]
  },
  {
   "cell_type": "code",
   "execution_count": null,
   "metadata": {},
   "outputs": [
    {
     "name": "stdout",
     "output_type": "stream",
     "text": [
      "     ┌───┐     ┌─┐   \n",
      "q_0: ┤ H ├──■──┤M├───\n",
      "     └───┘┌─┴─┐└╥┘┌─┐\n",
      "q_1: ─────┤ X ├─╫─┤M├\n",
      "          └───┘ ║ └╥┘\n",
      "c: 2/═══════════╩══╩═\n",
      "                0  1 \n",
      "{'00': 493, '11': 531}\n"
     ]
    }
   ],
   "source": [
    "from qiskit import QuantumCircuit\n",
    "from qiskit_aer import AerSimulator\n",
    "from qiskit.primitives import Sampler\n",
    "import warnings\n",
    "warnings.filterwarnings(\"ignore\", category=DeprecationWarning) \n",
    "import matplotlib.pyplot as plt  \n",
    "from qiskit.visualization import circuit_drawer\n",
    "\n",
    "# Create Bell state circuit  (phi+)\n",
    "qc = QuantumCircuit(2, 2)\n",
    "qc.h(0)  \n",
    "qc.cx(0, 1)  \n",
    "qc.measure([0, 1], [0, 1])  \n",
    "\n",
    "# Draw and explicitly display the circuit\n",
    "circuit_fig = qc.draw('mpl')\n",
    "plt.show()\n",
    "\n",
    "# Alternative debug method:\n",
    "print(qc.draw(output='text'))\n",
    "\n",
    "# Simulate\n",
    "simulator = AerSimulator()\n",
    "result = simulator.run(qc).result()\n",
    "counts = result.get_counts()\n",
    "print(counts)\n"
   ]
  },
  {
   "cell_type": "markdown",
   "metadata": {},
   "source": [
    "Creating a phi- Bell state from a phi+ Bell state. \n",
    "Once we have a phi+ Bell state, we can apply a Z flip in the first qubit in phi+ to get a local phase difference\n",
    "Z∣0⟩ = ∣0⟩ and Z∣1⟩ = −∣1⟩. In other words, applying a phase flip for qubit 0 changes nothing while applying a phase flip on the qubit 1 flips the sign. Differentiating a phi+ from phi- is quite tricky since they are only differ from the relative phase sign. Infact, we cannot measure the two qubits directly since the sign disappears as well."
   ]
  },
  {
   "cell_type": "markdown",
   "metadata": {},
   "source": [
    "Creating a phi - state from phi+. To creat a phi- state, we first create a phi+ state then we apply a Z flip"
   ]
  },
  {
   "cell_type": "code",
   "execution_count": 13,
   "metadata": {},
   "outputs": [
    {
     "name": "stdout",
     "output_type": "stream",
     "text": [
      "     ┌───┐     ┌───┐┌─┐\n",
      "q_0: ┤ H ├──■──┤ Z ├┤M├\n",
      "     └───┘┌─┴─┐└┬─┬┘└╥┘\n",
      "q_1: ─────┤ X ├─┤M├──╫─\n",
      "          └───┘ └╥┘  ║ \n",
      "c: 2/════════════╩═══╩═\n",
      "                 1   0 \n",
      "{'11': 492, '00': 532}\n"
     ]
    }
   ],
   "source": [
    "#Creating a phi- state and measuring the qubit\n",
    "\n",
    "from qiskit import QuantumCircuit\n",
    "from qiskit_aer import AerSimulator\n",
    "\n",
    "qc=QuantumCircuit(2,2)\n",
    "qc.h(0)\n",
    "qc.cx(0,1)\n",
    "qc.z(0)   #Applying a Z gate to one of the qubits to create a phi- state from phi+ state\n",
    "qc.measure([0,1],[0,1])\n",
    "simulator=AerSimulator()\n",
    "# Draw and explicitly display the circuit\n",
    "circuit_fig = qc.draw('mpl')\n",
    "plt.show()\n",
    "\n",
    "# Alternative debug method:\n",
    "print(qc.draw(output='text'))\n",
    "sampler=Sampler()\n",
    "result=simulator.run(qc).result()\n",
    "counts=result.get_counts()\n",
    "print(counts)\n"
   ]
  },
  {
   "cell_type": "markdown",
   "metadata": {},
   "source": [
    "Creating a psi+ state from phi+ state"
   ]
  },
  {
   "cell_type": "code",
   "execution_count": 14,
   "metadata": {},
   "outputs": [
    {
     "name": "stdout",
     "output_type": "stream",
     "text": [
      "     ┌───┐     ┌───┐┌─┐\n",
      "q_0: ┤ H ├──■──┤ X ├┤M├\n",
      "     └───┘┌─┴─┐└┬─┬┘└╥┘\n",
      "q_1: ─────┤ X ├─┤M├──╫─\n",
      "          └───┘ └╥┘  ║ \n",
      "c: 2/════════════╩═══╩═\n",
      "                 1   0 \n",
      "{'10': 507, '01': 517}\n"
     ]
    }
   ],
   "source": [
    "from qiskit import QuantumCircuit\n",
    "from qiskit_aer import AerSimulator\n",
    "\n",
    "qc=QuantumCircuit(2,2)\n",
    "qc.h(0)\n",
    "qc.cx(0,1)\n",
    "\n",
    "#Apply X gate to the first qubit to flip the qubit and creating a psi+ state from phi+ state\n",
    "qc.x(0)\n",
    "qc.measure([0,1],[0,1])\n",
    "simulator=AerSimulator()\n",
    "# Draw and explicitly display the circuit\n",
    "circuit_fig = qc.draw('mpl')\n",
    "plt.show()\n",
    "\n",
    "# Alternative debug method:\n",
    "print(qc.draw(output='text'))\n",
    "sampler=Sampler()\n",
    "result=simulator.run(qc).result()\n",
    "counts=result.get_counts()\n",
    "print(counts)\n",
    "\n",
    "#The probability is distributted equally since the probability for 01 and 10 in bell state is equal."
   ]
  },
  {
   "cell_type": "markdown",
   "metadata": {},
   "source": [
    "Creating a psi- state from phi+ state"
   ]
  },
  {
   "cell_type": "code",
   "execution_count": 16,
   "metadata": {},
   "outputs": [
    {
     "name": "stdout",
     "output_type": "stream",
     "text": [
      "     ┌───┐     ┌───┐┌─┐   \n",
      "q_0: ┤ H ├──■──┤ X ├┤M├───\n",
      "     └───┘┌─┴─┐├───┤└╥┘┌─┐\n",
      "q_1: ─────┤ X ├┤ Z ├─╫─┤M├\n",
      "          └───┘└───┘ ║ └╥┘\n",
      "c: 2/════════════════╩══╩═\n",
      "                     0  1 \n",
      "{'10': 510, '01': 514}\n"
     ]
    }
   ],
   "source": [
    "from qiskit import QuantumCircuit\n",
    "from qiskit_aer import AerSimulator\n",
    "\n",
    "qc = QuantumCircuit(2, 2)\n",
    "qc.h(0)\n",
    "qc.cx(0, 1)\n",
    "\n",
    "# Apply X gate to transform |Φ+⟩ → |Ψ+⟩\n",
    "qc.x(0)\n",
    "\n",
    "# Apply Z gate to qubit 0 to introduce phase difference |Ψ+⟩ → |Ψ-⟩\n",
    "qc.z(1)\n",
    "\n",
    "# Measure the qubits\n",
    "qc.measure([0, 1], [0, 1])\n",
    "# Draw and explicitly display the circuit\n",
    "circuit_fig = qc.draw('mpl')\n",
    "plt.show()\n",
    "\n",
    "# Alternative debug method:\n",
    "print(qc.draw(output='text'))\n",
    "# Simulate\n",
    "simulator = AerSimulator()\n",
    "result = simulator.run(qc).result()\n",
    "counts = result.get_counts()\n",
    "print(counts)\n"
   ]
  },
  {
   "cell_type": "code",
   "execution_count": null,
   "metadata": {},
   "outputs": [],
   "source": []
  },
  {
   "cell_type": "markdown",
   "metadata": {},
   "source": []
  }
 ],
 "metadata": {
  "kernelspec": {
   "display_name": ".venv",
   "language": "python",
   "name": "python3"
  },
  "language_info": {
   "codemirror_mode": {
    "name": "ipython",
    "version": 3
   },
   "file_extension": ".py",
   "mimetype": "text/x-python",
   "name": "python",
   "nbconvert_exporter": "python",
   "pygments_lexer": "ipython3",
   "version": "3.12.3"
  }
 },
 "nbformat": 4,
 "nbformat_minor": 2
}
